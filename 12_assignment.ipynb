{
 "cells": [
  {
   "cell_type": "markdown",
   "id": "093db153-a5be-4ad5-bda1-a5275c939e1c",
   "metadata": {},
   "source": [
    "## Q1. What is a database? Differentiate between SQL and NoSQL databases.\n"
   ]
  },
  {
   "cell_type": "markdown",
   "id": "a1a91ee1-9055-4bba-87fb-32121df54973",
   "metadata": {},
   "source": [
    "### When it comes to choosing a database the biggest decision is picking a relational (SQL) or non-relational (NoSQL) data structure. While both databases are viable options still there are certain key differences between the two that users must keep in mind when making a decision."
   ]
  },
  {
   "cell_type": "markdown",
   "id": "ba65b048-c238-4f60-b111-328186aecd91",
   "metadata": {},
   "source": [
    "## Q2. What is DDL? Explain why CREATE, DROP, ALTER, and TRUNCATE are used with an example.\n"
   ]
  },
  {
   "cell_type": "markdown",
   "id": "a10e6711-8da3-47a9-a359-262125cea7bd",
   "metadata": {},
   "source": [
    "## DDL (Data Definition Language) is a type of SQL command used to define data structures and modify data. It creates, alters, and deletes database objects such as tables, views, indexes, and users. Examples of DDL statements include CREATE, ALTER, DROP and TRUNCATE."
   ]
  },
  {
   "cell_type": "markdown",
   "id": "8bae240f-3ef6-4f47-9470-3970ec6c2cda",
   "metadata": {},
   "source": [
    "## Q3. What is DML? Explain INSERT, UPDATE, and DELETE with an example.\n"
   ]
  },
  {
   "cell_type": "markdown",
   "id": "eca1c2d2-7d9c-40c3-8d8f-289c5b9e0e0c",
   "metadata": {},
   "source": [
    "### DML: Data Manipulation Language\n",
    "### INSERT: This statement adds table row values. UPDATE: This statement updates the values of a column in a table. To use this, the WHERE condition is necessary. DELETE: This command removes a particular row from a table."
   ]
  },
  {
   "cell_type": "markdown",
   "id": "a3789cb5-7fdd-41c2-8d55-c7747a2fb4e5",
   "metadata": {},
   "source": [
    "## Q4. What is DQL? Explain SELECT with an example."
   ]
  },
  {
   "cell_type": "markdown",
   "id": "5754da64-8bb6-4ec2-8128-73f8a9eeb3e9",
   "metadata": {},
   "source": [
    "### DQL statements are used for performing queries on the data within schema objects. The purpose of DQL commands is to get the schema relation based on the query passed to it. Although often considered part of DML, the SQL SELECT statement is strictly speaking an example of DQL."
   ]
  },
  {
   "cell_type": "markdown",
   "id": "ecced50b-7c59-4473-9fa0-fada5dd3fe5d",
   "metadata": {},
   "source": [
    "## Q5. Explain Primary Key and Foreign Key.\n"
   ]
  },
  {
   "cell_type": "markdown",
   "id": "c655c5c2-1d60-409a-95df-38ef60ba9ef8",
   "metadata": {},
   "source": [
    "### A primary key is a unique identifier for each record in a table. A foreign key establishes a relationship between tables by referencing the primary key of another table. Ensures uniqueness and data integrity within a single table.\n"
   ]
  },
  {
   "cell_type": "markdown",
   "id": "56d351c5-d5c9-42ab-9134-82ce489fd3c7",
   "metadata": {},
   "source": [
    "## Q6. Write a python code to connect MySQL to python. Explain the cursor() and execute() method.\n"
   ]
  },
  {
   "cell_type": "markdown",
   "id": "f9f93e07-d71a-4018-995c-efe342d8b2dc",
   "metadata": {},
   "source": [
    "### The MySQLCursor of mysql-connector-python (and similar libraries) is used to execute statements to communicate with the MySQL database.\n",
    "\n",
    "### Using the methods of it you can execute SQL statements, fetch data from the result sets, call procedures.\n",
    "\n",
    "### You can create Cursor object using the cursor() method of the Connection object/class."
   ]
  },
  {
   "cell_type": "markdown",
   "id": "18c7b4cc-67eb-4d3f-a3de-35e2cd6bad6e",
   "metadata": {},
   "source": [
    "## Q7. Give the order of execution of SQL clauses in an SQL query."
   ]
  },
  {
   "cell_type": "markdown",
   "id": "4b7152ab-b1f2-446f-bb99-c6274daeaccf",
   "metadata": {},
   "source": [
    "### Defining Order of Execution in SQL\n",
    "#### Getting Data (FROM/JOIN)\n",
    "#### Row Filter (WHERE)\n",
    "#### Grouping (GROUP BY)\n",
    "#### Group Filter (HAVING)\n",
    "#### Return Expression (SELECT)\n",
    "#### Order & Paging (ORDER BY & LIMIT/OFFSET)\n"
   ]
  },
  {
   "cell_type": "code",
   "execution_count": null,
   "id": "78f19918-8779-489a-9117-22bf04150dbc",
   "metadata": {},
   "outputs": [],
   "source": []
  }
 ],
 "metadata": {
  "kernelspec": {
   "display_name": "Python 3 (ipykernel)",
   "language": "python",
   "name": "python3"
  },
  "language_info": {
   "codemirror_mode": {
    "name": "ipython",
    "version": 3
   },
   "file_extension": ".py",
   "mimetype": "text/x-python",
   "name": "python",
   "nbconvert_exporter": "python",
   "pygments_lexer": "ipython3",
   "version": "3.10.8"
  }
 },
 "nbformat": 4,
 "nbformat_minor": 5
}
